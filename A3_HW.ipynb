{
  "nbformat": 4,
  "nbformat_minor": 0,
  "metadata": {
    "colab": {
      "provenance": [],
      "collapsed_sections": []
    },
    "kernelspec": {
      "name": "python3",
      "display_name": "Python 3"
    },
    "language_info": {
      "name": "python"
    }
  },
  "cells": [
    {
      "cell_type": "markdown",
      "source": [
        "**CH 4 HW**"
      ],
      "metadata": {
        "id": "Jkn9FCJRXw37"
      }
    },
    {
      "cell_type": "code",
      "source": [
        "import math\n",
        "import statistics\n",
        "import numpy as np\n",
        "import scipy.stats\n",
        "from scipy import stats\n",
        "from scipy.stats import f_oneway\n",
        "import pandas as pd\n",
        "import matplotlib.pyplot as plt\n",
        "import statsmodels.api as sm\n",
        "from statsmodels.formula.api import ols\n",
        "import statsmodels.stats.multicomp as mc\n",
        "import matplotlib.pyplot as plt"
      ],
      "metadata": {
        "id": "XNI3MKkejFUp"
      },
      "execution_count": 27,
      "outputs": []
    },
    {
      "cell_type": "code",
      "source": [
        "from google.colab import drive\n",
        "drive.mount('/content/drive')"
      ],
      "metadata": {
        "colab": {
          "base_uri": "https://localhost:8080/"
        },
        "id": "rpoXQDDa90Zo",
        "outputId": "923177d8-f238-4ab5-e61d-39ca1945e3fc"
      },
      "execution_count": 28,
      "outputs": [
        {
          "output_type": "stream",
          "name": "stdout",
          "text": [
            "Drive already mounted at /content/drive; to attempt to forcibly remount, call drive.mount(\"/content/drive\", force_remount=True).\n"
          ]
        }
      ]
    },
    {
      "cell_type": "markdown",
      "source": [
        "**4.35 a)**\n",
        "Does flow rate affect etch uniformity?\n",
        "Answer this question by using an analysis of\n",
        "variance with Alpha = 0.05\n"
      ],
      "metadata": {
        "id": "--fUcgWJXzxv"
      }
    },
    {
      "cell_type": "code",
      "source": [
        "T4E4 = pd.read_csv('drive/My Drive/data/Table4E4.csv', sep=',', na_values=\".\")\n",
        "T4E4"
      ],
      "metadata": {
        "colab": {
          "base_uri": "https://localhost:8080/",
          "height": 607
        },
        "id": "TUYTVSi_YUG1",
        "outputId": "89a78d29-2f30-4a5c-ba9f-49a92d6509f3"
      },
      "execution_count": 29,
      "outputs": [
        {
          "output_type": "execute_result",
          "data": {
            "text/plain": [
              "    Flow  Uniformity\n",
              "0    125         2.7\n",
              "1    125         2.6\n",
              "2    125         4.6\n",
              "3    125         3.2\n",
              "4    125         3.0\n",
              "5    125         3.8\n",
              "6    160         4.6\n",
              "7    160         4.9\n",
              "8    160         5.0\n",
              "9    160         4.2\n",
              "10   160         3.6\n",
              "11   160         4.2\n",
              "12   200         4.6\n",
              "13   200         2.9\n",
              "14   200         3.4\n",
              "15   200         3.5\n",
              "16   200         4.1\n",
              "17   200         5.1"
            ],
            "text/html": [
              "\n",
              "  <div id=\"df-05c6e23b-f72a-49ef-9678-5179eb4c5c97\">\n",
              "    <div class=\"colab-df-container\">\n",
              "      <div>\n",
              "<style scoped>\n",
              "    .dataframe tbody tr th:only-of-type {\n",
              "        vertical-align: middle;\n",
              "    }\n",
              "\n",
              "    .dataframe tbody tr th {\n",
              "        vertical-align: top;\n",
              "    }\n",
              "\n",
              "    .dataframe thead th {\n",
              "        text-align: right;\n",
              "    }\n",
              "</style>\n",
              "<table border=\"1\" class=\"dataframe\">\n",
              "  <thead>\n",
              "    <tr style=\"text-align: right;\">\n",
              "      <th></th>\n",
              "      <th>Flow</th>\n",
              "      <th>Uniformity</th>\n",
              "    </tr>\n",
              "  </thead>\n",
              "  <tbody>\n",
              "    <tr>\n",
              "      <th>0</th>\n",
              "      <td>125</td>\n",
              "      <td>2.7</td>\n",
              "    </tr>\n",
              "    <tr>\n",
              "      <th>1</th>\n",
              "      <td>125</td>\n",
              "      <td>2.6</td>\n",
              "    </tr>\n",
              "    <tr>\n",
              "      <th>2</th>\n",
              "      <td>125</td>\n",
              "      <td>4.6</td>\n",
              "    </tr>\n",
              "    <tr>\n",
              "      <th>3</th>\n",
              "      <td>125</td>\n",
              "      <td>3.2</td>\n",
              "    </tr>\n",
              "    <tr>\n",
              "      <th>4</th>\n",
              "      <td>125</td>\n",
              "      <td>3.0</td>\n",
              "    </tr>\n",
              "    <tr>\n",
              "      <th>5</th>\n",
              "      <td>125</td>\n",
              "      <td>3.8</td>\n",
              "    </tr>\n",
              "    <tr>\n",
              "      <th>6</th>\n",
              "      <td>160</td>\n",
              "      <td>4.6</td>\n",
              "    </tr>\n",
              "    <tr>\n",
              "      <th>7</th>\n",
              "      <td>160</td>\n",
              "      <td>4.9</td>\n",
              "    </tr>\n",
              "    <tr>\n",
              "      <th>8</th>\n",
              "      <td>160</td>\n",
              "      <td>5.0</td>\n",
              "    </tr>\n",
              "    <tr>\n",
              "      <th>9</th>\n",
              "      <td>160</td>\n",
              "      <td>4.2</td>\n",
              "    </tr>\n",
              "    <tr>\n",
              "      <th>10</th>\n",
              "      <td>160</td>\n",
              "      <td>3.6</td>\n",
              "    </tr>\n",
              "    <tr>\n",
              "      <th>11</th>\n",
              "      <td>160</td>\n",
              "      <td>4.2</td>\n",
              "    </tr>\n",
              "    <tr>\n",
              "      <th>12</th>\n",
              "      <td>200</td>\n",
              "      <td>4.6</td>\n",
              "    </tr>\n",
              "    <tr>\n",
              "      <th>13</th>\n",
              "      <td>200</td>\n",
              "      <td>2.9</td>\n",
              "    </tr>\n",
              "    <tr>\n",
              "      <th>14</th>\n",
              "      <td>200</td>\n",
              "      <td>3.4</td>\n",
              "    </tr>\n",
              "    <tr>\n",
              "      <th>15</th>\n",
              "      <td>200</td>\n",
              "      <td>3.5</td>\n",
              "    </tr>\n",
              "    <tr>\n",
              "      <th>16</th>\n",
              "      <td>200</td>\n",
              "      <td>4.1</td>\n",
              "    </tr>\n",
              "    <tr>\n",
              "      <th>17</th>\n",
              "      <td>200</td>\n",
              "      <td>5.1</td>\n",
              "    </tr>\n",
              "  </tbody>\n",
              "</table>\n",
              "</div>\n",
              "      <button class=\"colab-df-convert\" onclick=\"convertToInteractive('df-05c6e23b-f72a-49ef-9678-5179eb4c5c97')\"\n",
              "              title=\"Convert this dataframe to an interactive table.\"\n",
              "              style=\"display:none;\">\n",
              "        \n",
              "  <svg xmlns=\"http://www.w3.org/2000/svg\" height=\"24px\"viewBox=\"0 0 24 24\"\n",
              "       width=\"24px\">\n",
              "    <path d=\"M0 0h24v24H0V0z\" fill=\"none\"/>\n",
              "    <path d=\"M18.56 5.44l.94 2.06.94-2.06 2.06-.94-2.06-.94-.94-2.06-.94 2.06-2.06.94zm-11 1L8.5 8.5l.94-2.06 2.06-.94-2.06-.94L8.5 2.5l-.94 2.06-2.06.94zm10 10l.94 2.06.94-2.06 2.06-.94-2.06-.94-.94-2.06-.94 2.06-2.06.94z\"/><path d=\"M17.41 7.96l-1.37-1.37c-.4-.4-.92-.59-1.43-.59-.52 0-1.04.2-1.43.59L10.3 9.45l-7.72 7.72c-.78.78-.78 2.05 0 2.83L4 21.41c.39.39.9.59 1.41.59.51 0 1.02-.2 1.41-.59l7.78-7.78 2.81-2.81c.8-.78.8-2.07 0-2.86zM5.41 20L4 18.59l7.72-7.72 1.47 1.35L5.41 20z\"/>\n",
              "  </svg>\n",
              "      </button>\n",
              "      \n",
              "  <style>\n",
              "    .colab-df-container {\n",
              "      display:flex;\n",
              "      flex-wrap:wrap;\n",
              "      gap: 12px;\n",
              "    }\n",
              "\n",
              "    .colab-df-convert {\n",
              "      background-color: #E8F0FE;\n",
              "      border: none;\n",
              "      border-radius: 50%;\n",
              "      cursor: pointer;\n",
              "      display: none;\n",
              "      fill: #1967D2;\n",
              "      height: 32px;\n",
              "      padding: 0 0 0 0;\n",
              "      width: 32px;\n",
              "    }\n",
              "\n",
              "    .colab-df-convert:hover {\n",
              "      background-color: #E2EBFA;\n",
              "      box-shadow: 0px 1px 2px rgba(60, 64, 67, 0.3), 0px 1px 3px 1px rgba(60, 64, 67, 0.15);\n",
              "      fill: #174EA6;\n",
              "    }\n",
              "\n",
              "    [theme=dark] .colab-df-convert {\n",
              "      background-color: #3B4455;\n",
              "      fill: #D2E3FC;\n",
              "    }\n",
              "\n",
              "    [theme=dark] .colab-df-convert:hover {\n",
              "      background-color: #434B5C;\n",
              "      box-shadow: 0px 1px 3px 1px rgba(0, 0, 0, 0.15);\n",
              "      filter: drop-shadow(0px 1px 2px rgba(0, 0, 0, 0.3));\n",
              "      fill: #FFFFFF;\n",
              "    }\n",
              "  </style>\n",
              "\n",
              "      <script>\n",
              "        const buttonEl =\n",
              "          document.querySelector('#df-05c6e23b-f72a-49ef-9678-5179eb4c5c97 button.colab-df-convert');\n",
              "        buttonEl.style.display =\n",
              "          google.colab.kernel.accessAllowed ? 'block' : 'none';\n",
              "\n",
              "        async function convertToInteractive(key) {\n",
              "          const element = document.querySelector('#df-05c6e23b-f72a-49ef-9678-5179eb4c5c97');\n",
              "          const dataTable =\n",
              "            await google.colab.kernel.invokeFunction('convertToInteractive',\n",
              "                                                     [key], {});\n",
              "          if (!dataTable) return;\n",
              "\n",
              "          const docLinkHtml = 'Like what you see? Visit the ' +\n",
              "            '<a target=\"_blank\" href=https://colab.research.google.com/notebooks/data_table.ipynb>data table notebook</a>'\n",
              "            + ' to learn more about interactive tables.';\n",
              "          element.innerHTML = '';\n",
              "          dataTable['output_type'] = 'display_data';\n",
              "          await google.colab.output.renderOutput(dataTable, element);\n",
              "          const docLink = document.createElement('div');\n",
              "          docLink.innerHTML = docLinkHtml;\n",
              "          element.appendChild(docLink);\n",
              "        }\n",
              "      </script>\n",
              "    </div>\n",
              "  </div>\n",
              "  "
            ]
          },
          "metadata": {},
          "execution_count": 29
        }
      ]
    },
    {
      "cell_type": "code",
      "source": [
        "Flow125=T4E4[T4E4['Flow']==125]['Uniformity']\n",
        "Flow160=T4E4[T4E4['Flow']==160]['Uniformity']\n",
        "Flow200=T4E4[T4E4['Flow']==200]['Uniformity']"
      ],
      "metadata": {
        "id": "MTZ2y8XkMuht"
      },
      "execution_count": 30,
      "outputs": []
    },
    {
      "cell_type": "code",
      "source": [
        "stat, p=f_oneway(Flow125, Flow160, Flow200)\n",
        "print('stat=%.3f, p=%.3f' %(stat,p))"
      ],
      "metadata": {
        "id": "SjXhNixP-jRM",
        "colab": {
          "base_uri": "https://localhost:8080/"
        },
        "outputId": "72915ae2-c28d-4bad-a6ba-10369276ee86"
      },
      "execution_count": 31,
      "outputs": [
        {
          "output_type": "stream",
          "name": "stdout",
          "text": [
            "stat=3.586, p=0.053\n"
          ]
        }
      ]
    },
    {
      "cell_type": "markdown",
      "source": [
        "H0: Tau Flow120= Tau Flow160= Tau Flow200= 0\n",
        "H1: at least one tau not equal to 0 \n",
        "Since the pvalue is greater than .05 (even by the tiny bit), we cannot reject the null hypothesis, they are too similar to say flow affects the etch."
      ],
      "metadata": {
        "id": "Jbpzhtg3MLWb"
      }
    },
    {
      "cell_type": "markdown",
      "source": [
        "**b)** Construct a box plot of the etch uniformity data.\n",
        "Use this plot, together with the analysis of variance\n",
        "results, to determine which gas flow rate\n",
        "would be best in terms of etch uniformity (a\n",
        "small percentage is best)."
      ],
      "metadata": {
        "id": "yF_slWR4X_5u"
      }
    },
    {
      "cell_type": "code",
      "source": [
        "m1 = ols('Uniformity ~ C(Flow)', data=T4E4).fit()\n",
        "aov_table = sm.stats.anova_lm(m1, typ=2)\n",
        "aov_table\n"
      ],
      "metadata": {
        "id": "bYW-cL_rYUgS",
        "colab": {
          "base_uri": "https://localhost:8080/",
          "height": 111
        },
        "outputId": "72c71aea-f883-4436-fd25-378344726ea6"
      },
      "execution_count": 32,
      "outputs": [
        {
          "output_type": "execute_result",
          "data": {
            "text/plain": [
              "            sum_sq    df         F    PR(>F)\n",
              "C(Flow)   3.647778   2.0  3.585627  0.053365\n",
              "Residual  7.630000  15.0       NaN       NaN"
            ],
            "text/html": [
              "\n",
              "  <div id=\"df-c6083679-89a0-4904-b006-9b8c08b12975\">\n",
              "    <div class=\"colab-df-container\">\n",
              "      <div>\n",
              "<style scoped>\n",
              "    .dataframe tbody tr th:only-of-type {\n",
              "        vertical-align: middle;\n",
              "    }\n",
              "\n",
              "    .dataframe tbody tr th {\n",
              "        vertical-align: top;\n",
              "    }\n",
              "\n",
              "    .dataframe thead th {\n",
              "        text-align: right;\n",
              "    }\n",
              "</style>\n",
              "<table border=\"1\" class=\"dataframe\">\n",
              "  <thead>\n",
              "    <tr style=\"text-align: right;\">\n",
              "      <th></th>\n",
              "      <th>sum_sq</th>\n",
              "      <th>df</th>\n",
              "      <th>F</th>\n",
              "      <th>PR(&gt;F)</th>\n",
              "    </tr>\n",
              "  </thead>\n",
              "  <tbody>\n",
              "    <tr>\n",
              "      <th>C(Flow)</th>\n",
              "      <td>3.647778</td>\n",
              "      <td>2.0</td>\n",
              "      <td>3.585627</td>\n",
              "      <td>0.053365</td>\n",
              "    </tr>\n",
              "    <tr>\n",
              "      <th>Residual</th>\n",
              "      <td>7.630000</td>\n",
              "      <td>15.0</td>\n",
              "      <td>NaN</td>\n",
              "      <td>NaN</td>\n",
              "    </tr>\n",
              "  </tbody>\n",
              "</table>\n",
              "</div>\n",
              "      <button class=\"colab-df-convert\" onclick=\"convertToInteractive('df-c6083679-89a0-4904-b006-9b8c08b12975')\"\n",
              "              title=\"Convert this dataframe to an interactive table.\"\n",
              "              style=\"display:none;\">\n",
              "        \n",
              "  <svg xmlns=\"http://www.w3.org/2000/svg\" height=\"24px\"viewBox=\"0 0 24 24\"\n",
              "       width=\"24px\">\n",
              "    <path d=\"M0 0h24v24H0V0z\" fill=\"none\"/>\n",
              "    <path d=\"M18.56 5.44l.94 2.06.94-2.06 2.06-.94-2.06-.94-.94-2.06-.94 2.06-2.06.94zm-11 1L8.5 8.5l.94-2.06 2.06-.94-2.06-.94L8.5 2.5l-.94 2.06-2.06.94zm10 10l.94 2.06.94-2.06 2.06-.94-2.06-.94-.94-2.06-.94 2.06-2.06.94z\"/><path d=\"M17.41 7.96l-1.37-1.37c-.4-.4-.92-.59-1.43-.59-.52 0-1.04.2-1.43.59L10.3 9.45l-7.72 7.72c-.78.78-.78 2.05 0 2.83L4 21.41c.39.39.9.59 1.41.59.51 0 1.02-.2 1.41-.59l7.78-7.78 2.81-2.81c.8-.78.8-2.07 0-2.86zM5.41 20L4 18.59l7.72-7.72 1.47 1.35L5.41 20z\"/>\n",
              "  </svg>\n",
              "      </button>\n",
              "      \n",
              "  <style>\n",
              "    .colab-df-container {\n",
              "      display:flex;\n",
              "      flex-wrap:wrap;\n",
              "      gap: 12px;\n",
              "    }\n",
              "\n",
              "    .colab-df-convert {\n",
              "      background-color: #E8F0FE;\n",
              "      border: none;\n",
              "      border-radius: 50%;\n",
              "      cursor: pointer;\n",
              "      display: none;\n",
              "      fill: #1967D2;\n",
              "      height: 32px;\n",
              "      padding: 0 0 0 0;\n",
              "      width: 32px;\n",
              "    }\n",
              "\n",
              "    .colab-df-convert:hover {\n",
              "      background-color: #E2EBFA;\n",
              "      box-shadow: 0px 1px 2px rgba(60, 64, 67, 0.3), 0px 1px 3px 1px rgba(60, 64, 67, 0.15);\n",
              "      fill: #174EA6;\n",
              "    }\n",
              "\n",
              "    [theme=dark] .colab-df-convert {\n",
              "      background-color: #3B4455;\n",
              "      fill: #D2E3FC;\n",
              "    }\n",
              "\n",
              "    [theme=dark] .colab-df-convert:hover {\n",
              "      background-color: #434B5C;\n",
              "      box-shadow: 0px 1px 3px 1px rgba(0, 0, 0, 0.15);\n",
              "      filter: drop-shadow(0px 1px 2px rgba(0, 0, 0, 0.3));\n",
              "      fill: #FFFFFF;\n",
              "    }\n",
              "  </style>\n",
              "\n",
              "      <script>\n",
              "        const buttonEl =\n",
              "          document.querySelector('#df-c6083679-89a0-4904-b006-9b8c08b12975 button.colab-df-convert');\n",
              "        buttonEl.style.display =\n",
              "          google.colab.kernel.accessAllowed ? 'block' : 'none';\n",
              "\n",
              "        async function convertToInteractive(key) {\n",
              "          const element = document.querySelector('#df-c6083679-89a0-4904-b006-9b8c08b12975');\n",
              "          const dataTable =\n",
              "            await google.colab.kernel.invokeFunction('convertToInteractive',\n",
              "                                                     [key], {});\n",
              "          if (!dataTable) return;\n",
              "\n",
              "          const docLinkHtml = 'Like what you see? Visit the ' +\n",
              "            '<a target=\"_blank\" href=https://colab.research.google.com/notebooks/data_table.ipynb>data table notebook</a>'\n",
              "            + ' to learn more about interactive tables.';\n",
              "          element.innerHTML = '';\n",
              "          dataTable['output_type'] = 'display_data';\n",
              "          await google.colab.output.renderOutput(dataTable, element);\n",
              "          const docLink = document.createElement('div');\n",
              "          docLink.innerHTML = docLinkHtml;\n",
              "          element.appendChild(docLink);\n",
              "        }\n",
              "      </script>\n",
              "    </div>\n",
              "  </div>\n",
              "  "
            ]
          },
          "metadata": {},
          "execution_count": 32
        }
      ]
    },
    {
      "cell_type": "code",
      "source": [
        "print(m1.summary())"
      ],
      "metadata": {
        "colab": {
          "base_uri": "https://localhost:8080/"
        },
        "id": "xLR6ryfVOec4",
        "outputId": "69cc6493-30f6-4405-93ce-92e330f81c08"
      },
      "execution_count": 33,
      "outputs": [
        {
          "output_type": "stream",
          "name": "stdout",
          "text": [
            "                            OLS Regression Results                            \n",
            "==============================================================================\n",
            "Dep. Variable:             Uniformity   R-squared:                       0.323\n",
            "Model:                            OLS   Adj. R-squared:                  0.233\n",
            "Method:                 Least Squares   F-statistic:                     3.586\n",
            "Date:                Fri, 23 Sep 2022   Prob (F-statistic):             0.0534\n",
            "Time:                        12:40:36   Log-Likelihood:                -17.816\n",
            "No. Observations:                  18   AIC:                             41.63\n",
            "Df Residuals:                      15   BIC:                             44.30\n",
            "Df Model:                           2                                         \n",
            "Covariance Type:            nonrobust                                         \n",
            "==================================================================================\n",
            "                     coef    std err          t      P>|t|      [0.025      0.975]\n",
            "----------------------------------------------------------------------------------\n",
            "Intercept          3.3167      0.291     11.391      0.000       2.696       3.937\n",
            "C(Flow)[T.160]     1.1000      0.412      2.671      0.017       0.222       1.978\n",
            "C(Flow)[T.200]     0.6167      0.412      1.498      0.155      -0.261       1.494\n",
            "==============================================================================\n",
            "Omnibus:                        1.003   Durbin-Watson:                   1.768\n",
            "Prob(Omnibus):                  0.605   Jarque-Bera (JB):                0.917\n",
            "Skew:                           0.382   Prob(JB):                        0.632\n",
            "Kurtosis:                       2.199   Cond. No.                         3.73\n",
            "==============================================================================\n",
            "\n",
            "Notes:\n",
            "[1] Standard Errors assume that the covariance matrix of the errors is correctly specified.\n"
          ]
        },
        {
          "output_type": "stream",
          "name": "stderr",
          "text": [
            "/usr/local/lib/python3.7/dist-packages/scipy/stats/stats.py:1542: UserWarning: kurtosistest only valid for n>=20 ... continuing anyway, n=18\n",
            "  \"anyway, n=%i\" % int(n))\n"
          ]
        }
      ]
    },
    {
      "cell_type": "code",
      "source": [
        "fig = plt.figure(figsize= (10, 10))\n",
        "ax = fig.add_subplot(111)\n",
        "\n",
        "ax.set_title(\"Box Plot of Etch Uniformity\", fontsize= 20)\n",
        "ax.set\n",
        "\n",
        "data2=[Flow125, Flow160, Flow200]\n",
        "\n",
        "ax.boxplot(data2,\n",
        "           labels= ['125', '160', '200'],\n",
        "           showmeans= True)\n",
        "\n",
        "plt.xlabel(\"SCCM\")\n",
        "plt.ylabel(\"Uniformity\")\n",
        "\n",
        "plt.show()"
      ],
      "metadata": {
        "colab": {
          "base_uri": "https://localhost:8080/",
          "height": 627
        },
        "id": "uCqLCpkFPsj3",
        "outputId": "5e6dc14d-7b84-46bf-ced7-03467e04f30b"
      },
      "execution_count": 34,
      "outputs": [
        {
          "output_type": "display_data",
          "data": {
            "text/plain": [
              "<Figure size 720x720 with 1 Axes>"
            ],
            "image/png": "[encoded data removed]"
          },
          "metadata": {
            "needs_background": "light"
          }
        }
      ]
    },
    {
      "cell_type": "markdown",
      "source": [
        "The best flow rate is 160, because the box plot shows it has the most consistent results. The box plot has the smallest range."
      ],
      "metadata": {
        "id": "0QvCPmbyfz0R"
      }
    },
    {
      "cell_type": "markdown",
      "source": [
        "\n",
        "**c)** Plot the residuals versus predicted C2F6 flow.\n",
        "Interpret this plot."
      ],
      "metadata": {
        "id": "JtUhLC_ZYDb_"
      }
    },
    {
      "cell_type": "code",
      "source": [
        "Unif_predict=m1.predict()\n",
        "Unif_predict"
      ],
      "metadata": {
        "colab": {
          "base_uri": "https://localhost:8080/"
        },
        "id": "jK5oju2YQLsf",
        "outputId": "fd79ce56-38c7-4f63-e694-4dbf84f4fd66"
      },
      "execution_count": 35,
      "outputs": [
        {
          "output_type": "execute_result",
          "data": {
            "text/plain": [
              "array([3.31666667, 3.31666667, 3.31666667, 3.31666667, 3.31666667,\n",
              "       3.31666667, 4.41666667, 4.41666667, 4.41666667, 4.41666667,\n",
              "       4.41666667, 4.41666667, 3.93333333, 3.93333333, 3.93333333,\n",
              "       3.93333333, 3.93333333, 3.93333333])"
            ]
          },
          "metadata": {},
          "execution_count": 35
        }
      ]
    },
    {
      "cell_type": "code",
      "source": [
        "residuals=m1.resid\n",
        "residuals.head()"
      ],
      "metadata": {
        "colab": {
          "base_uri": "https://localhost:8080/"
        },
        "id": "70QOaIGtQtce",
        "outputId": "dc8d6054-e58e-4d74-f839-5d0c270d1553"
      },
      "execution_count": 36,
      "outputs": [
        {
          "output_type": "execute_result",
          "data": {
            "text/plain": [
              "0   -0.616667\n",
              "1   -0.716667\n",
              "2    1.283333\n",
              "3   -0.116667\n",
              "4   -0.316667\n",
              "dtype: float64"
            ]
          },
          "metadata": {},
          "execution_count": 36
        }
      ]
    },
    {
      "cell_type": "code",
      "source": [
        "plt.scatter(Unif_predict, residuals)\n",
        "\n",
        "plt.show()"
      ],
      "metadata": {
        "colab": {
          "base_uri": "https://localhost:8080/",
          "height": 265
        },
        "id": "NPCVU0RRQzvv",
        "outputId": "3353c87e-07ae-4a6a-8d35-c126310592b1"
      },
      "execution_count": 37,
      "outputs": [
        {
          "output_type": "display_data",
          "data": {
            "text/plain": [
              "<Figure size 432x288 with 1 Axes>"
            ],
            "image/png": "[encoded data removed]"
          },
          "metadata": {
            "needs_background": "light"
          }
        }
      ]
    },
    {
      "cell_type": "markdown",
      "source": [
        "Since the bars are different sizes they are not the same samples."
      ],
      "metadata": {
        "id": "uKe4EULTRByR"
      }
    },
    {
      "cell_type": "markdown",
      "source": [
        "**d)** Does the normality assumption seem reasonable\n",
        "in this problem?"
      ],
      "metadata": {
        "id": "x79lKY9_YPAl"
      }
    },
    {
      "cell_type": "code",
      "source": [
        "fig = plt.figure(figsize= (10, 10))\n",
        "ax = fig.add_subplot(111)\n",
        "\n",
        "normality_plot, stat = stats.probplot(m1.resid, plot= plt, rvalue= True)\n",
        "ax.set_title(\"Probability plot\", fontsize= 20)\n",
        "ax.set\n",
        "\n",
        "plt.show()"
      ],
      "metadata": {
        "id": "PG5-uk3QYTZu",
        "colab": {
          "base_uri": "https://localhost:8080/",
          "height": 627
        },
        "outputId": "a5801eeb-dd99-4963-c549-a27b2d8bbf15"
      },
      "execution_count": 38,
      "outputs": [
        {
          "output_type": "display_data",
          "data": {
            "text/plain": [
              "<Figure size 720x720 with 1 Axes>"
            ],
            "image/png": "[encoded data removed]"
          },
          "metadata": {
            "needs_background": "light"
          }
        }
      ]
    },
    {
      "cell_type": "markdown",
      "source": [
        "This passes the fat pencil test, so it is a uniform data set."
      ],
      "metadata": {
        "id": "NTRIiXqmSCsF"
      }
    },
    {
      "cell_type": "markdown",
      "source": [
        "**4.36** Compare the mean etch uniformity values at each of\n",
        "the C2F6 flow rates from Exercise 4.33 with a scaled\n",
        "t distribution. Does this analysis indicate that there\n",
        "are differences in mean etch uniformity at the different\n",
        "flow rates? Which flows produce different\n",
        "results?"
      ],
      "metadata": {
        "id": "DkhF_0LXYV1i"
      }
    },
    {
      "cell_type": "code",
      "source": [],
      "metadata": {
        "id": "9GXrG30lYfJl"
      },
      "execution_count": 38,
      "outputs": []
    },
    {
      "cell_type": "markdown",
      "source": [
        "**4.53 a)** Consider the Minitab output. Fill in the missing values. What conclusions\n",
        "would you draw?"
      ],
      "metadata": {
        "id": "NJKXpTtjYfd8"
      }
    },
    {
      "cell_type": "markdown",
      "source": [
        "Z = (30-31.4) / 1.3 = -1.0769\n",
        "Using a table to convert Z to P\n",
        "P= 0.14007 *2 =0.28014\n",
        "This is larger than 0.05 so we reject the null hypothesis"
      ],
      "metadata": {
        "id": "N-rIPxZSThZd"
      }
    },
    {
      "cell_type": "markdown",
      "source": [
        "**b)** Is this a one-sided or two-sided test?"
      ],
      "metadata": {
        "id": "_hApmqC4Yxnu"
      }
    },
    {
      "cell_type": "markdown",
      "source": [
        "This is a two sided test as the value can be both above and below 30 to prove mu =/ 30"
      ],
      "metadata": {
        "id": "43L7uHTRSfIR"
      }
    },
    {
      "cell_type": "markdown",
      "source": [
        "**c)** Use the output and a normal table to find a 95%\n",
        "CI on the mean."
      ],
      "metadata": {
        "id": "wtoOyA4mY7S-"
      }
    },
    {
      "cell_type": "markdown",
      "source": [
        "mean +- Z(sigma/sqrt(n))      using alpha 0.05 table to get Z value of (1.96) single sided. CI=[30.74, 32.06]\n",
        "\n",
        "\n",
        "\n",
        "\n"
      ],
      "metadata": {
        "id": "MWMjsCDwoOiB"
      }
    },
    {
      "cell_type": "markdown",
      "source": [
        "**d)** How was the SE mean calculated?"
      ],
      "metadata": {
        "id": "jkZHah2rZAZY"
      }
    },
    {
      "cell_type": "markdown",
      "source": [
        "SE mean is standard deviation over the square root of sample size. In this case 1.3/(sqroot(15))= 0.336"
      ],
      "metadata": {
        "id": "XwO4J-HJ15Pv"
      }
    },
    {
      "cell_type": "markdown",
      "source": [
        "**e)** What is the P-value if the alternative hypothesis\n",
        "is H1: m > 30?"
      ],
      "metadata": {
        "id": "Cc1luUblZFA6"
      }
    },
    {
      "cell_type": "markdown",
      "source": [
        "One sided P = 0.28014/2= 0.14007\n",
        "To get to one sided we divide the two sided P by 2"
      ],
      "metadata": {
        "id": "nX8-Lpe92Xeb"
      }
    },
    {
      "cell_type": "markdown",
      "source": [
        "**4.47 a)** Fit a multiple regression model to these data"
      ],
      "metadata": {
        "id": "ZFIZWmZ9ZcSV"
      }
    },
    {
      "cell_type": "code",
      "source": [
        "T4E10 = pd.read_csv('drive/My Drive/data/datat10.csv', sep=',', na_values=\".\")\n",
        "T4E10"
      ],
      "metadata": {
        "colab": {
          "base_uri": "https://localhost:8080/",
          "height": 421
        },
        "id": "ygniKzthZliv",
        "outputId": "80ad22fc-4a22-4d4c-c8ca-48c6be4ecd63"
      },
      "execution_count": 39,
      "outputs": [
        {
          "output_type": "execute_result",
          "data": {
            "text/plain": [
              "    Brake_Horsepower   RPM  RON  Compression\n",
              "0                225  2000   90          100\n",
              "1                212  1800   94           95\n",
              "2                229  2400   88          110\n",
              "3                222  1900   91           96\n",
              "4                219  1600   86          100\n",
              "5                278  2500   96          110\n",
              "6                246  3000   94           98\n",
              "7                237  3200   90          100\n",
              "8                233  2800   88          105\n",
              "9                224  3400   86           97\n",
              "10               223  1800   90          100\n",
              "11               230  2500   89          104"
            ],
            "text/html": [
              "\n",
              "  <div id=\"df-d57e4f20-6ea6-4857-b80a-f003580d6681\">\n",
              "    <div class=\"colab-df-container\">\n",
              "      <div>\n",
              "<style scoped>\n",
              "    .dataframe tbody tr th:only-of-type {\n",
              "        vertical-align: middle;\n",
              "    }\n",
              "\n",
              "    .dataframe tbody tr th {\n",
              "        vertical-align: top;\n",
              "    }\n",
              "\n",
              "    .dataframe thead th {\n",
              "        text-align: right;\n",
              "    }\n",
              "</style>\n",
              "<table border=\"1\" class=\"dataframe\">\n",
              "  <thead>\n",
              "    <tr style=\"text-align: right;\">\n",
              "      <th></th>\n",
              "      <th>Brake_Horsepower</th>\n",
              "      <th>RPM</th>\n",
              "      <th>RON</th>\n",
              "      <th>Compression</th>\n",
              "    </tr>\n",
              "  </thead>\n",
              "  <tbody>\n",
              "    <tr>\n",
              "      <th>0</th>\n",
              "      <td>225</td>\n",
              "      <td>2000</td>\n",
              "      <td>90</td>\n",
              "      <td>100</td>\n",
              "    </tr>\n",
              "    <tr>\n",
              "      <th>1</th>\n",
              "      <td>212</td>\n",
              "      <td>1800</td>\n",
              "      <td>94</td>\n",
              "      <td>95</td>\n",
              "    </tr>\n",
              "    <tr>\n",
              "      <th>2</th>\n",
              "      <td>229</td>\n",
              "      <td>2400</td>\n",
              "      <td>88</td>\n",
              "      <td>110</td>\n",
              "    </tr>\n",
              "    <tr>\n",
              "      <th>3</th>\n",
              "      <td>222</td>\n",
              "      <td>1900</td>\n",
              "      <td>91</td>\n",
              "      <td>96</td>\n",
              "    </tr>\n",
              "    <tr>\n",
              "      <th>4</th>\n",
              "      <td>219</td>\n",
              "      <td>1600</td>\n",
              "      <td>86</td>\n",
              "      <td>100</td>\n",
              "    </tr>\n",
              "    <tr>\n",
              "      <th>5</th>\n",
              "      <td>278</td>\n",
              "      <td>2500</td>\n",
              "      <td>96</td>\n",
              "      <td>110</td>\n",
              "    </tr>\n",
              "    <tr>\n",
              "      <th>6</th>\n",
              "      <td>246</td>\n",
              "      <td>3000</td>\n",
              "      <td>94</td>\n",
              "      <td>98</td>\n",
              "    </tr>\n",
              "    <tr>\n",
              "      <th>7</th>\n",
              "      <td>237</td>\n",
              "      <td>3200</td>\n",
              "      <td>90</td>\n",
              "      <td>100</td>\n",
              "    </tr>\n",
              "    <tr>\n",
              "      <th>8</th>\n",
              "      <td>233</td>\n",
              "      <td>2800</td>\n",
              "      <td>88</td>\n",
              "      <td>105</td>\n",
              "    </tr>\n",
              "    <tr>\n",
              "      <th>9</th>\n",
              "      <td>224</td>\n",
              "      <td>3400</td>\n",
              "      <td>86</td>\n",
              "      <td>97</td>\n",
              "    </tr>\n",
              "    <tr>\n",
              "      <th>10</th>\n",
              "      <td>223</td>\n",
              "      <td>1800</td>\n",
              "      <td>90</td>\n",
              "      <td>100</td>\n",
              "    </tr>\n",
              "    <tr>\n",
              "      <th>11</th>\n",
              "      <td>230</td>\n",
              "      <td>2500</td>\n",
              "      <td>89</td>\n",
              "      <td>104</td>\n",
              "    </tr>\n",
              "  </tbody>\n",
              "</table>\n",
              "</div>\n",
              "      <button class=\"colab-df-convert\" onclick=\"convertToInteractive('df-d57e4f20-6ea6-4857-b80a-f003580d6681')\"\n",
              "              title=\"Convert this dataframe to an interactive table.\"\n",
              "              style=\"display:none;\">\n",
              "        \n",
              "  <svg xmlns=\"http://www.w3.org/2000/svg\" height=\"24px\"viewBox=\"0 0 24 24\"\n",
              "       width=\"24px\">\n",
              "    <path d=\"M0 0h24v24H0V0z\" fill=\"none\"/>\n",
              "    <path d=\"M18.56 5.44l.94 2.06.94-2.06 2.06-.94-2.06-.94-.94-2.06-.94 2.06-2.06.94zm-11 1L8.5 8.5l.94-2.06 2.06-.94-2.06-.94L8.5 2.5l-.94 2.06-2.06.94zm10 10l.94 2.06.94-2.06 2.06-.94-2.06-.94-.94-2.06-.94 2.06-2.06.94z\"/><path d=\"M17.41 7.96l-1.37-1.37c-.4-.4-.92-.59-1.43-.59-.52 0-1.04.2-1.43.59L10.3 9.45l-7.72 7.72c-.78.78-.78 2.05 0 2.83L4 21.41c.39.39.9.59 1.41.59.51 0 1.02-.2 1.41-.59l7.78-7.78 2.81-2.81c.8-.78.8-2.07 0-2.86zM5.41 20L4 18.59l7.72-7.72 1.47 1.35L5.41 20z\"/>\n",
              "  </svg>\n",
              "      </button>\n",
              "      \n",
              "  <style>\n",
              "    .colab-df-container {\n",
              "      display:flex;\n",
              "      flex-wrap:wrap;\n",
              "      gap: 12px;\n",
              "    }\n",
              "\n",
              "    .colab-df-convert {\n",
              "      background-color: #E8F0FE;\n",
              "      border: none;\n",
              "      border-radius: 50%;\n",
              "      cursor: pointer;\n",
              "      display: none;\n",
              "      fill: #1967D2;\n",
              "      height: 32px;\n",
              "      padding: 0 0 0 0;\n",
              "      width: 32px;\n",
              "    }\n",
              "\n",
              "    .colab-df-convert:hover {\n",
              "      background-color: #E2EBFA;\n",
              "      box-shadow: 0px 1px 2px rgba(60, 64, 67, 0.3), 0px 1px 3px 1px rgba(60, 64, 67, 0.15);\n",
              "      fill: #174EA6;\n",
              "    }\n",
              "\n",
              "    [theme=dark] .colab-df-convert {\n",
              "      background-color: #3B4455;\n",
              "      fill: #D2E3FC;\n",
              "    }\n",
              "\n",
              "    [theme=dark] .colab-df-convert:hover {\n",
              "      background-color: #434B5C;\n",
              "      box-shadow: 0px 1px 3px 1px rgba(0, 0, 0, 0.15);\n",
              "      filter: drop-shadow(0px 1px 2px rgba(0, 0, 0, 0.3));\n",
              "      fill: #FFFFFF;\n",
              "    }\n",
              "  </style>\n",
              "\n",
              "      <script>\n",
              "        const buttonEl =\n",
              "          document.querySelector('#df-d57e4f20-6ea6-4857-b80a-f003580d6681 button.colab-df-convert');\n",
              "        buttonEl.style.display =\n",
              "          google.colab.kernel.accessAllowed ? 'block' : 'none';\n",
              "\n",
              "        async function convertToInteractive(key) {\n",
              "          const element = document.querySelector('#df-d57e4f20-6ea6-4857-b80a-f003580d6681');\n",
              "          const dataTable =\n",
              "            await google.colab.kernel.invokeFunction('convertToInteractive',\n",
              "                                                     [key], {});\n",
              "          if (!dataTable) return;\n",
              "\n",
              "          const docLinkHtml = 'Like what you see? Visit the ' +\n",
              "            '<a target=\"_blank\" href=https://colab.research.google.com/notebooks/data_table.ipynb>data table notebook</a>'\n",
              "            + ' to learn more about interactive tables.';\n",
              "          element.innerHTML = '';\n",
              "          dataTable['output_type'] = 'display_data';\n",
              "          await google.colab.output.renderOutput(dataTable, element);\n",
              "          const docLink = document.createElement('div');\n",
              "          docLink.innerHTML = docLinkHtml;\n",
              "          element.appendChild(docLink);\n",
              "        }\n",
              "      </script>\n",
              "    </div>\n",
              "  </div>\n",
              "  "
            ]
          },
          "metadata": {},
          "execution_count": 39
        }
      ]
    },
    {
      "cell_type": "code",
      "source": [
        "model = ols('Brake_Horsepower ~ RPM + RON + Compression', T4E10).fit()\n",
        "print(model.summary())"
      ],
      "metadata": {
        "colab": {
          "base_uri": "https://localhost:8080/"
        },
        "id": "i8kd3odziTEI",
        "outputId": "b7159a60-1ad5-46eb-ded4-e5396672188b"
      },
      "execution_count": 40,
      "outputs": [
        {
          "output_type": "stream",
          "name": "stdout",
          "text": [
            "                            OLS Regression Results                            \n",
            "==============================================================================\n",
            "Dep. Variable:       Brake_Horsepower   R-squared:                       0.807\n",
            "Model:                            OLS   Adj. R-squared:                  0.734\n",
            "Method:                 Least Squares   F-statistic:                     11.12\n",
            "Date:                Fri, 23 Sep 2022   Prob (F-statistic):            0.00317\n",
            "Time:                        12:40:37   Log-Likelihood:                -40.708\n",
            "No. Observations:                  12   AIC:                             89.42\n",
            "Df Residuals:                       8   BIC:                             91.36\n",
            "Df Model:                           3                                         \n",
            "Covariance Type:            nonrobust                                         \n",
            "===============================================================================\n",
            "                  coef    std err          t      P>|t|      [0.025      0.975]\n",
            "-------------------------------------------------------------------------------\n",
            "Intercept    -266.0312     92.674     -2.871      0.021    -479.737     -52.325\n",
            "RPM             0.0107      0.004      2.390      0.044       0.000       0.021\n",
            "RON             3.1348      0.844      3.712      0.006       1.188       5.082\n",
            "Compression     1.8674      0.535      3.494      0.008       0.635       3.100\n",
            "==============================================================================\n",
            "Omnibus:                        0.392   Durbin-Watson:                   1.043\n",
            "Prob(Omnibus):                  0.822   Jarque-Bera (JB):                0.230\n",
            "Skew:                          -0.282   Prob(JB):                        0.891\n",
            "Kurtosis:                       2.625   Cond. No.                     9.03e+04\n",
            "==============================================================================\n",
            "\n",
            "Notes:\n",
            "[1] Standard Errors assume that the covariance matrix of the errors is correctly specified.\n",
            "[2] The condition number is large, 9.03e+04. This might indicate that there are\n",
            "strong multicollinearity or other numerical problems.\n"
          ]
        },
        {
          "output_type": "stream",
          "name": "stderr",
          "text": [
            "/usr/local/lib/python3.7/dist-packages/scipy/stats/stats.py:1542: UserWarning: kurtosistest only valid for n>=20 ... continuing anyway, n=12\n",
            "  \"anyway, n=%i\" % int(n))\n"
          ]
        }
      ]
    },
    {
      "cell_type": "code",
      "source": [
        "fig = plt.figure(figsize=(12,8))\n",
        "fig = sm.graphics.plot_regress_exog(model, 'RPM', fig=fig)"
      ],
      "metadata": {
        "colab": {
          "base_uri": "https://localhost:8080/",
          "height": 585
        },
        "id": "85HEWUIY8Ina",
        "outputId": "e25bb878-3a4a-438b-80d5-e21912a9b02b"
      },
      "execution_count": 41,
      "outputs": [
        {
          "output_type": "display_data",
          "data": {
            "text/plain": [
              "<Figure size 864x576 with 4 Axes>"
            ],
            "image/png": "[encoded data removed]"
          },
          "metadata": {
            "needs_background": "light"
          }
        }
      ]
    },
    {
      "cell_type": "code",
      "source": [
        "fig = plt.figure(figsize=(12,8))\n",
        "\n",
        "#produce regression plots\n",
        "fig = sm.graphics.plot_regress_exog(model, 'RON', fig=fig)"
      ],
      "metadata": {
        "colab": {
          "base_uri": "https://localhost:8080/",
          "height": 585
        },
        "id": "u4fA3vcw8WsS",
        "outputId": "6eb1579d-6dfa-4ea0-9243-e7c9b845ede4"
      },
      "execution_count": 42,
      "outputs": [
        {
          "output_type": "display_data",
          "data": {
            "text/plain": [
              "<Figure size 864x576 with 4 Axes>"
            ],
            "image/png": "[encoded data removed]"
          },
          "metadata": {
            "needs_background": "light"
          }
        }
      ]
    },
    {
      "cell_type": "code",
      "source": [
        "fig = plt.figure(figsize=(12,8))\n",
        "\n",
        "#produce regression plots\n",
        "fig = sm.graphics.plot_regress_exog(model, 'Compression', fig=fig)"
      ],
      "metadata": {
        "colab": {
          "base_uri": "https://localhost:8080/",
          "height": 585
        },
        "id": "L4Ea_TlN8aPt",
        "outputId": "2de753bb-adcf-45d3-85b5-e8883d146ec1"
      },
      "execution_count": 43,
      "outputs": [
        {
          "output_type": "display_data",
          "data": {
            "text/plain": [
              "<Figure size 864x576 with 4 Axes>"
            ],
            "image/png": "[encoded data removed]"
          },
          "metadata": {
            "needs_background": "light"
          }
        }
      ]
    },
    {
      "cell_type": "markdown",
      "source": [
        "**b)** Test for significance of regression. What conclusions\n",
        "can you draw?"
      ],
      "metadata": {
        "id": "jDvn4Zn5ZlpG"
      }
    },
    {
      "cell_type": "markdown",
      "source": [
        "Based on the F statistic (11.12) and P value (0.00317) from the table, we can conclude that this model is significant and represents the data well with 99.7% significance."
      ],
      "metadata": {
        "id": "-P8eZCzAsiBG"
      }
    },
    {
      "cell_type": "markdown",
      "source": [
        "**c)** Based on t-tests, do you need all three regressor\n",
        "variables in the model?"
      ],
      "metadata": {
        "id": "PO1aBF3-ZsXk"
      }
    },
    {
      "cell_type": "markdown",
      "source": [
        "Based on the individual P values, they all affect the Brake Horsepower. The P values are all below 0.05. RPM is 0.044, Road Octane Number is 0.006 and the Compression is 0.008. So all values are needed within the model."
      ],
      "metadata": {
        "id": "UaIvJh-bsmT_"
      }
    }
  ]
}